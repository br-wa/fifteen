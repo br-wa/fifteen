{
 "cells": [
  {
   "cell_type": "markdown",
   "metadata": {},
   "source": [
    "# Introduction and preliminaries"
   ]
  },
  {
   "cell_type": "markdown",
   "metadata": {},
   "source": [
    "We define a <i>quadratic form</i> to be a <i>homogeneous quadratic polynomial</i>, i.e. a function of the form $$f(x_1,\\ldots, x_n) = \\sum_{i \\leq j} c_{i,j} x_ix_j,$$ \n",
    "where all the coefficients $c_{i,j}$ are integers.\n",
    "For example, $f_1(x_1,x_2) = x_1^2 + x_2^2$ is a quadratic form, as is $f_2(w,x,y,z) = w^2+x^2+y^2+z^2$. \n",
    "By Lagrange's celebrated Four-Square Theorem, the latter <i>represents</i> all positive integers -- that is, all positive integers can be written as $f_2(w,x,y,z)$ for some choice of integers $w,x,y,z$. \n",
    "For any quadratic form we can associate a matrix $A = [a_{i,j}]$, where: $$f(\\mathbf x) = \\mathbf x^{\\intercal} A \\mathbf x.$$\n",
    "For example, $f_1$ is associated to the $2\\times 2$ identity matrix, while $f_2$ is associated to the $4\\times 4$ identity matrix.\n",
    "In general, $A$'s entries are defined by $a_{i,i} = c_{i,i}$, and $a_{i,j} = a_{j,i} = 0.5c_{i,j}$ for $i < j$. \n",
    "We note that $A$ is not necessarily integer-entried. For example, if we consider the form $f_3(x,y) = x^2+3xy+y^2$, then the matrix is $\\begin{bmatrix} 1 & 1.5 \\\\ 1.5 & 1 \\end{bmatrix}$. \n",
    "It will turn out that the matrix form of $\\mathbf x^\\intercal A \\mathbf x$ is much easier to work with than the actual quadratic form, so we define a quadratic form to have <i>integer matrix</i> if $A$ has integer entries (equivalently, the $c_{i,j}$'s are all even for $i\\neq j$). \n",
    "\n",
    "We need another notion: positive-definiteness. A quadratic form $f$ is <i>positive-definite</i> if for all nonzreo real vectors $\\mathbf v$, $f(\\mathbf v) > 0$. It turns out this is equivalent to $f(\\mathbf v) \\geq 0$ for only integer-valued $\\mathbf v$, so this definition is not unnecessarily restrictive. \n",
    "\n",
    "There is also a definition of <i>positive-definite</i> for matrices as well -- in fact, it is precisely $\\mathbf v^\\intercal A \\mathbf v > 0$ for all nonzero real vectors $\\mathbf v$, which is equivalent to our definition. In fact, there exist efficient algorithms for checking whether matrices are positive-definite, and we will describe one further down.\n",
    "\n",
    "We are now ready to state the <b>15 Theorem</b>: A positive-definite quadratic form with integer matrix represents every positive integer if and only if it represents 1 through 15. \n",
    "\n",
    "For example, $w^2+x^2+y^2+z^2$ represents 1 through 15, so it represents all positive integers. There is also the <b>290 Theorem</b>, which is the same thing but for quadratic forms with not necessarily integer matrix (for example $x^2+3xy+y^2$ from earlier) and requiring 1 through 290 instead of 1 through 15. Unfortunately, both the 15 and 290 Theorem do not \"imply\" Lagrange's Four-Square Theorem, because it turns out we will use a cleverly done exhaustion method to prove the 15 Theorem."
   ]
  },
  {
   "cell_type": "markdown",
   "metadata": {},
   "source": [
    "# Basic Sage Operations"
   ]
  },
  {
   "cell_type": "markdown",
   "metadata": {},
   "source": [
    "In Sage, we initialize matrices as following (click on the code box and press run to run the code!):"
   ]
  },
  {
   "cell_type": "code",
   "execution_count": null,
   "metadata": {},
   "outputs": [],
   "source": [
    "M = matrix([[1,2,],[3,4]])\n",
    "print(M)\n",
    "\n",
    "#now, try initializing a 4 by 4 identity matrix:"
   ]
  },
  {
   "cell_type": "markdown",
   "metadata": {},
   "source": [
    "We can perform some pretty basic matrix operations:"
   ]
  },
  {
   "cell_type": "code",
   "execution_count": null,
   "metadata": {},
   "outputs": [],
   "source": [
    "print(\"determinant of M:\", det(M))\n",
    "print(\"inverse of M:\", M^-1, sep='\\n')\n",
    "print(\"one row of M:\", M.delete_rows([1]), sep='\\n') #note the indexing! are rows 0 or 1 indexed?\n",
    "print(\"number of rows in M:\", M.nrows())\n",
    "print(\"number of columns in M:\", M.ncols())\n",
    "print(\"M again:\", M, sep='\\n') #we never modified M, so it should not change"
   ]
  },
  {
   "cell_type": "markdown",
   "metadata": {},
   "source": [
    "We now implement <b>Sylvester's Criteron</b>, which states that a symmetric real matrix $M$ is positive-definite if and only if its upper-left $i\\times i$ submatrix has positive determinant for all $1\\leq i \\leq n$."
   ]
  },
  {
   "cell_type": "code",
   "execution_count": null,
   "metadata": {},
   "outputs": [],
   "source": [
    "def sylvester(M):\n",
    "    #returns True if M is positive-definite, and false otherwise\n",
    "    #hint: check the \n",
    "    ################################################################################\n",
    "    #                            BEGINNING OF YOUR CODE                            #\n",
    "    ################################################################################\n",
    "    n = M.nrows()\n",
    "    for i in range(n-1, -1, -1):\n",
    "        if det(M) <= 0:\n",
    "            return False\n",
    "        M = M.delete_rows([i])\n",
    "        M = M.delete_columns([i])\n",
    "    return True\n",
    "    ################################################################################\n",
    "    #                               END OF YOUR CODE                               #\n",
    "    ################################################################################"
   ]
  },
  {
   "cell_type": "code",
   "execution_count": null,
   "metadata": {},
   "outputs": [],
   "source": [
    "A = matrix([[1,2],[3,4]]) #this is not positive-definite\n",
    "B = matrix([[1,0],[0,1]]) #this is positive-definite\n",
    "C = matrix([[2,-1,0],[-1,2,-1],[0,-1,2]]) #this is positive-definite\n",
    "\n",
    "print(sylvester(A), sylvester(B), sylvester(C))"
   ]
  },
  {
   "cell_type": "code",
   "execution_count": null,
   "metadata": {},
   "outputs": [],
   "source": []
  }
 ],
 "metadata": {
  "kernelspec": {
   "display_name": "SageMath 9.0",
   "language": "sage",
   "name": "sagemath"
  },
  "language_info": {
   "codemirror_mode": {
    "name": "ipython",
    "version": 3
   },
   "file_extension": ".py",
   "mimetype": "text/x-python",
   "name": "python",
   "nbconvert_exporter": "python",
   "pygments_lexer": "ipython3",
   "version": "3.8.5"
  }
 },
 "nbformat": 4,
 "nbformat_minor": 4
}
